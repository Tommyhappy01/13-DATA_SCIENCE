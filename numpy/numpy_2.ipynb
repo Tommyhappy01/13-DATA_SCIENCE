{
 "cells": [
  {
   "cell_type": "code",
   "execution_count": 1,
   "id": "f653e41d",
   "metadata": {},
   "outputs": [],
   "source": [
    "import numpy as np"
   ]
  },
  {
   "cell_type": "code",
   "execution_count": 2,
   "id": "d623c64d",
   "metadata": {},
   "outputs": [
    {
     "data": {
      "text/plain": [
       "'1.20.1'"
      ]
     },
     "execution_count": 2,
     "metadata": {},
     "output_type": "execute_result"
    }
   ],
   "source": [
    "np.__version__"
   ]
  },
  {
   "cell_type": "code",
   "execution_count": 3,
   "id": "a48b035e",
   "metadata": {},
   "outputs": [
    {
     "data": {
      "text/plain": [
       "array([1, 2, 3, 4, 5, 6])"
      ]
     },
     "execution_count": 3,
     "metadata": {},
     "output_type": "execute_result"
    }
   ],
   "source": [
    "a = np.array([1,2,3,4,5,6])\n",
    "a"
   ]
  },
  {
   "cell_type": "code",
   "execution_count": 4,
   "id": "4d8ba823",
   "metadata": {},
   "outputs": [
    {
     "data": {
      "text/plain": [
       "array([1, 2, 3, 4, 5, 6])"
      ]
     },
     "execution_count": 4,
     "metadata": {},
     "output_type": "execute_result"
    }
   ],
   "source": [
    "a = np.array((1,2,3,4,5,6))\n",
    "a"
   ]
  },
  {
   "cell_type": "code",
   "execution_count": 5,
   "id": "14fd553f",
   "metadata": {},
   "outputs": [
    {
     "data": {
      "text/plain": [
       "array([[1, 2, 3],\n",
       "       [4, 5, 6],\n",
       "       [7, 8, 9]])"
      ]
     },
     "execution_count": 5,
     "metadata": {},
     "output_type": "execute_result"
    }
   ],
   "source": [
    "a = np.array([[1,2,3],[4,5,6],[7,8,9]])\n",
    "a"
   ]
  },
  {
   "cell_type": "code",
   "execution_count": 6,
   "id": "f383e8f8",
   "metadata": {},
   "outputs": [
    {
     "ename": "SyntaxError",
     "evalue": "invalid syntax (<ipython-input-6-edb8dfdd8083>, line 1)",
     "output_type": "error",
     "traceback": [
      "\u001b[1;36m  File \u001b[1;32m\"<ipython-input-6-edb8dfdd8083>\"\u001b[1;36m, line \u001b[1;32m1\u001b[0m\n\u001b[1;33m    0-D Arrays\u001b[0m\n\u001b[1;37m        ^\u001b[0m\n\u001b[1;31mSyntaxError\u001b[0m\u001b[1;31m:\u001b[0m invalid syntax\n"
     ]
    }
   ],
   "source": [
    "0-D Arrays\n"
   ]
  },
  {
   "cell_type": "code",
   "execution_count": null,
   "id": "d848bf4d",
   "metadata": {},
   "outputs": [],
   "source": [
    "a = np.array(55)\n",
    "a"
   ]
  },
  {
   "cell_type": "code",
   "execution_count": null,
   "id": "5698f96d",
   "metadata": {},
   "outputs": [],
   "source": [
    "1-D Arrays\n"
   ]
  },
  {
   "cell_type": "code",
   "execution_count": null,
   "id": "4587bcd2",
   "metadata": {},
   "outputs": [],
   "source": [
    "arr = np.array([1, 2, 3, 4, 5])\n",
    "arr"
   ]
  },
  {
   "cell_type": "code",
   "execution_count": null,
   "id": "9fa47299",
   "metadata": {},
   "outputs": [],
   "source": [
    "# boyut ayarlamak için ndmin() kullanılır"
   ]
  },
  {
   "cell_type": "code",
   "execution_count": null,
   "id": "20b2127c",
   "metadata": {},
   "outputs": [],
   "source": [
    "a = np.array([1,2,3], ndmin= 5)\n",
    "a.ndim"
   ]
  },
  {
   "cell_type": "code",
   "execution_count": null,
   "id": "1fdfcb75",
   "metadata": {},
   "outputs": [],
   "source": [
    "arr = np.array([1, 2, 3, 4])\n",
    "bar = np.array([5, 6, 7, 8])\n",
    "c = np.concatenate([arr,bar])\n",
    "\n",
    "print(c)"
   ]
  },
  {
   "cell_type": "code",
   "execution_count": null,
   "id": "e1cdb429",
   "metadata": {},
   "outputs": [],
   "source": [
    "arr = np.array([[[1, 2, 3], [4, 5, 6]], [[7, 8, 9], [10, 11, 12]]])\n",
    "\n",
    "arr"
   ]
  },
  {
   "cell_type": "code",
   "execution_count": null,
   "id": "70e0e7bb",
   "metadata": {},
   "outputs": [],
   "source": [
    "print(arr[1, 1, 2])"
   ]
  },
  {
   "cell_type": "code",
   "execution_count": null,
   "id": "eeefa1dd",
   "metadata": {},
   "outputs": [],
   "source": [
    "arr = np.array([[1, 2, 3, 4, 5], [6, 7, 8, 9, 10]])\n",
    "arr"
   ]
  },
  {
   "cell_type": "code",
   "execution_count": null,
   "id": "c612c38d",
   "metadata": {},
   "outputs": [],
   "source": [
    "print(arr[0:2, 2])\n"
   ]
  },
  {
   "cell_type": "code",
   "execution_count": null,
   "id": "fdaa82d1",
   "metadata": {},
   "outputs": [],
   "source": [
    "arr = np.array([[1, 2, 3, 4, 5], [6, 7, 8, 9, 10]])\n",
    "\n",
    "arr"
   ]
  },
  {
   "cell_type": "code",
   "execution_count": null,
   "id": "7b5cbbc2",
   "metadata": {},
   "outputs": [],
   "source": [
    "print(arr[0:2, 1:4])"
   ]
  },
  {
   "cell_type": "code",
   "execution_count": null,
   "id": "657a91b8",
   "metadata": {},
   "outputs": [],
   "source": [
    "arr = np.array([10, 15, 20, 25, 30, 35, 40])\n",
    "arr"
   ]
  },
  {
   "cell_type": "code",
   "execution_count": null,
   "id": "de0ea628",
   "metadata": {},
   "outputs": [],
   "source": [
    "arr[1:5:2]"
   ]
  },
  {
   "cell_type": "code",
   "execution_count": null,
   "id": "50b28d97",
   "metadata": {},
   "outputs": [],
   "source": [
    "a = np.array([\"a\",\"b\",\"c\",\"d\",\"e\",\"f\"])\n",
    "a"
   ]
  },
  {
   "cell_type": "code",
   "execution_count": null,
   "id": "54649e11",
   "metadata": {},
   "outputs": [],
   "source": [
    "a.dtype"
   ]
  },
  {
   "cell_type": "code",
   "execution_count": null,
   "id": "e6efcc3b",
   "metadata": {},
   "outputs": [],
   "source": [
    "arr = np.array(['apple', 'bananaaaaa', 'cherry'],dtype = \"U\")\n",
    "arr.dtype"
   ]
  },
  {
   "cell_type": "code",
   "execution_count": null,
   "id": "9dadf294",
   "metadata": {},
   "outputs": [],
   "source": [
    "arr = np.array(['1', '2', 3], dtype='i')\n",
    "arr"
   ]
  },
  {
   "cell_type": "code",
   "execution_count": null,
   "id": "369d2372",
   "metadata": {},
   "outputs": [],
   "source": [
    "arr = np.array(['a', '2', 3], dtype='i')\n"
   ]
  },
  {
   "cell_type": "code",
   "execution_count": null,
   "id": "50064554",
   "metadata": {},
   "outputs": [],
   "source": [
    "arr = np.array([1.1, 2.1, 3.1])\n",
    "new_arr = np.array(arr,dtype= \"str\")\n",
    "new_arr"
   ]
  },
  {
   "cell_type": "code",
   "execution_count": null,
   "id": "ca599c6c",
   "metadata": {},
   "outputs": [],
   "source": [
    "arr = np.array([1.1, 2.1, 3.1])\n",
    "new_arr = arr.astype(int)\n",
    "new_arr"
   ]
  },
  {
   "cell_type": "code",
   "execution_count": null,
   "id": "84dcd3cb",
   "metadata": {},
   "outputs": [],
   "source": [
    "arr = np.array([1, 0, 3])\n",
    "new_arr = arr.astype(\"bool\")\n",
    "new_arr"
   ]
  },
  {
   "cell_type": "code",
   "execution_count": null,
   "id": "a525db17",
   "metadata": {},
   "outputs": [],
   "source": [
    "new_arr_2 = np.array(arr,dtype=\"bool\")\n",
    "new_arr_2"
   ]
  },
  {
   "cell_type": "code",
   "execution_count": null,
   "id": "b57a098f",
   "metadata": {},
   "outputs": [],
   "source": [
    "arr = []"
   ]
  },
  {
   "cell_type": "markdown",
   "id": "10f5340e",
   "metadata": {},
   "source": [
    "### numpy copy"
   ]
  },
  {
   "cell_type": "code",
   "execution_count": null,
   "id": "469a21ae",
   "metadata": {},
   "outputs": [],
   "source": [
    "arr = np.array([1,2,4,5])\n",
    "x = arr\n",
    "arr[0] = 10\n",
    "x  #  orijinal listede yapılan değişiklikler kopya edilen listeyi de etkiledi"
   ]
  },
  {
   "cell_type": "code",
   "execution_count": null,
   "id": "c892acc2",
   "metadata": {},
   "outputs": [],
   "source": [
    "# orijinal verilerin de etkilenmesini önlemek için copy() kullanılır. \n",
    "arr = np.arange(2,20).reshape(6,3)\n",
    "x = arr.copy()\n",
    "arr[0,0] = 1000"
   ]
  },
  {
   "cell_type": "code",
   "execution_count": null,
   "id": "8fc412cb",
   "metadata": {},
   "outputs": [],
   "source": [
    "arr"
   ]
  },
  {
   "cell_type": "code",
   "execution_count": null,
   "id": "993e80c9",
   "metadata": {},
   "outputs": [],
   "source": [
    "x  # kopya liste etkilenmedi"
   ]
  },
  {
   "cell_type": "markdown",
   "id": "057015ee",
   "metadata": {},
   "source": [
    "### Check if Array Owns it's Data\n",
    "değişkenlerin kendi verisini mi yoksa bir başka verinin kopyasını taşıdğını kontrol edelim.\n",
    "Bunun için base etiketi kullanılır.\n",
    "eğer arr.base None değeri döndürüyorsa değişken kendi data değerini taşıyor. eğer bir değer döndürüyorsa başka bir değişkenin değerini taşıyo demektir.\n",
    "\n"
   ]
  },
  {
   "cell_type": "code",
   "execution_count": null,
   "id": "8d28ff67",
   "metadata": {},
   "outputs": [],
   "source": [
    "arr = np.array([1,2,3,4,5])\n",
    "x = arr.copy()\n",
    "y = arr.view()"
   ]
  },
  {
   "cell_type": "code",
   "execution_count": null,
   "id": "26e56cb5",
   "metadata": {},
   "outputs": [],
   "source": [
    "print(x.base)  # kendi datasını taşıyor. "
   ]
  },
  {
   "cell_type": "code",
   "execution_count": null,
   "id": "fbbb63a7",
   "metadata": {},
   "outputs": [],
   "source": [
    "y"
   ]
  },
  {
   "cell_type": "markdown",
   "id": "983190ae",
   "metadata": {},
   "source": [
    "### NumPy Array Shape\n",
    "The shape of an array is the number of elements in each dimension.\n",
    "\n"
   ]
  },
  {
   "cell_type": "code",
   "execution_count": null,
   "id": "d40b1da0",
   "metadata": {},
   "outputs": [],
   "source": [
    "# shape etiketi ile dizinin sahip olduğu satır ve sütün sayılarını görebiliriz\n",
    "# shape bir tuple değeri döndürür"
   ]
  },
  {
   "cell_type": "code",
   "execution_count": null,
   "id": "7612a106",
   "metadata": {},
   "outputs": [],
   "source": [
    "a = np.arange(2,10).reshape(4,2)\n",
    "a.shape"
   ]
  },
  {
   "cell_type": "code",
   "execution_count": null,
   "id": "17fbad6f",
   "metadata": {},
   "outputs": [],
   "source": [
    "a"
   ]
  },
  {
   "cell_type": "code",
   "execution_count": null,
   "id": "eb51cc8a",
   "metadata": {},
   "outputs": [],
   "source": [
    "a = np.array([1,2,3,4],ndmin = 5)\n",
    "a"
   ]
  },
  {
   "cell_type": "code",
   "execution_count": null,
   "id": "f6bf4466",
   "metadata": {},
   "outputs": [],
   "source": [
    "a.shape"
   ]
  },
  {
   "cell_type": "code",
   "execution_count": null,
   "id": "d8491a41",
   "metadata": {},
   "outputs": [],
   "source": [
    "arr = np.array([1, 2, 3, 4, 5, 6, 7, 8, 9, 10, 11, 12]).reshape(-1)\n",
    "arr.shape"
   ]
  },
  {
   "cell_type": "markdown",
   "id": "08509f81",
   "metadata": {},
   "source": [
    "### Reshape From 1-D to 2-D\n"
   ]
  },
  {
   "cell_type": "code",
   "execution_count": null,
   "id": "1cf276ab",
   "metadata": {},
   "outputs": [],
   "source": [
    "arr = np.array([1, 2, 3, 4, 5, 6, 7, 8, 9, 10, 11, 12])\n",
    "arr"
   ]
  },
  {
   "cell_type": "code",
   "execution_count": null,
   "id": "72a9bc0c",
   "metadata": {},
   "outputs": [],
   "source": [
    "arr.reshape(4,3)\n"
   ]
  },
  {
   "cell_type": "code",
   "execution_count": null,
   "id": "d7fc393e",
   "metadata": {},
   "outputs": [],
   "source": [
    "new_arr = arr.reshape(2,3,2) # önce tüm listeyi ikiye böldü. Sonra iki parçayı kendi için de 3x2 yaptı\n",
    "new_arr"
   ]
  },
  {
   "cell_type": "code",
   "execution_count": null,
   "id": "c6638e39",
   "metadata": {},
   "outputs": [],
   "source": [
    "new_arr[:,1,0]"
   ]
  },
  {
   "cell_type": "markdown",
   "id": "ab308b16",
   "metadata": {},
   "source": [
    "Flattening the arrays\n",
    "Flattening array means converting a multidimensional array into a 1D array.\n",
    "\n",
    "We can use reshape(-1) to do this."
   ]
  },
  {
   "cell_type": "code",
   "execution_count": null,
   "id": "26e515be",
   "metadata": {},
   "outputs": [],
   "source": [
    "arr = np.random.randint(2,8, size = (3,3))\n",
    "arr"
   ]
  },
  {
   "cell_type": "code",
   "execution_count": null,
   "id": "1d302202",
   "metadata": {},
   "outputs": [],
   "source": [
    "new_arr = arr.reshape(-1)\n",
    "new_arr\n"
   ]
  },
  {
   "cell_type": "code",
   "execution_count": null,
   "id": "c2bf534c",
   "metadata": {},
   "outputs": [],
   "source": [
    "for i in new_arr:\n",
    "    print(i)"
   ]
  },
  {
   "cell_type": "code",
   "execution_count": null,
   "id": "c52895e5",
   "metadata": {},
   "outputs": [],
   "source": [
    "arr = np.arange(2,20).reshape(6,3)\n",
    "arr"
   ]
  },
  {
   "cell_type": "code",
   "execution_count": null,
   "id": "3232ee6f",
   "metadata": {},
   "outputs": [],
   "source": [
    "for i in arr:\n",
    "    for j in i:\n",
    "        print(j)"
   ]
  },
  {
   "cell_type": "code",
   "execution_count": null,
   "id": "b2ebd2ab",
   "metadata": {},
   "outputs": [],
   "source": [
    "Iterating Arrays Using nditer()\n"
   ]
  },
  {
   "cell_type": "code",
   "execution_count": null,
   "id": "06a67280",
   "metadata": {},
   "outputs": [],
   "source": [
    "arr = np.arange(2,20).reshape(2,3,3)\n",
    "arr.dtype"
   ]
  },
  {
   "cell_type": "code",
   "execution_count": null,
   "id": "95851c33",
   "metadata": {},
   "outputs": [],
   "source": [
    "for i in np.nditer(arr):  # ne kadar iç içe gelmiş liste olsa da hepsini yazdırabiliyoruz\n",
    "    print(i)"
   ]
  },
  {
   "cell_type": "code",
   "execution_count": null,
   "id": "7bab8768",
   "metadata": {},
   "outputs": [],
   "source": [
    "arr = np.arange(2,10)\n",
    "arr"
   ]
  },
  {
   "cell_type": "code",
   "execution_count": 7,
   "id": "1b1c4179",
   "metadata": {},
   "outputs": [],
   "source": [
    "np.random.seed() # rastgele oluşturulan değerlerin sabit olarak kalmasını sağlıyor. her çalıştırmada değişmesini engelliyor. \n",
    "populasyon = np.random.randint(10,80, size = 10000)"
   ]
  },
  {
   "cell_type": "code",
   "execution_count": 8,
   "id": "b23e5c82",
   "metadata": {},
   "outputs": [],
   "source": [
    "orneklem = np.random.choice(populasyon, size = 100)"
   ]
  },
  {
   "cell_type": "code",
   "execution_count": 10,
   "id": "340b15b6",
   "metadata": {},
   "outputs": [
    {
     "data": {
      "text/plain": [
       "44.4555"
      ]
     },
     "execution_count": 10,
     "metadata": {},
     "output_type": "execute_result"
    }
   ],
   "source": [
    "populasyon.mean()"
   ]
  },
  {
   "cell_type": "code",
   "execution_count": 11,
   "id": "e6b7929e",
   "metadata": {},
   "outputs": [
    {
     "data": {
      "text/plain": [
       "55.7"
      ]
     },
     "execution_count": 11,
     "metadata": {},
     "output_type": "execute_result"
    }
   ],
   "source": [
    "orneklem.mean()"
   ]
  },
  {
   "cell_type": "code",
   "execution_count": 35,
   "id": "88c0613e",
   "metadata": {},
   "outputs": [],
   "source": [
    "orneklem1 = np.random.choice(populasyon, size = 100)\n",
    "orneklem2 = np.random.choice(populasyon, size = 100)\n",
    "orneklem3 = np.random.choice(populasyon, size = 100)\n",
    "orneklem4 = np.random.choice(populasyon, size = 100)\n",
    "orneklem5 = np.random.choice(populasyon, size = 100)\n"
   ]
  },
  {
   "cell_type": "code",
   "execution_count": 36,
   "id": "d1578ded",
   "metadata": {},
   "outputs": [
    {
     "data": {
      "text/plain": [
       "43.44"
      ]
     },
     "execution_count": 36,
     "metadata": {},
     "output_type": "execute_result"
    }
   ],
   "source": [
    "orneklem1.mean()"
   ]
  },
  {
   "cell_type": "code",
   "execution_count": null,
   "id": "05633e46",
   "metadata": {},
   "outputs": [],
   "source": []
  },
  {
   "cell_type": "code",
   "execution_count": 29,
   "id": "80ba9b16",
   "metadata": {},
   "outputs": [
    {
     "data": {
      "text/plain": [
       "43.76"
      ]
     },
     "execution_count": 29,
     "metadata": {},
     "output_type": "execute_result"
    }
   ],
   "source": [
    "orneklem2.mean()"
   ]
  },
  {
   "cell_type": "code",
   "execution_count": 32,
   "id": "9d367b82",
   "metadata": {},
   "outputs": [
    {
     "data": {
      "text/plain": [
       "43.14"
      ]
     },
     "execution_count": 32,
     "metadata": {},
     "output_type": "execute_result"
    }
   ],
   "source": [
    "orneklem3.mean()"
   ]
  },
  {
   "cell_type": "code",
   "execution_count": 34,
   "id": "e110ce17",
   "metadata": {},
   "outputs": [
    {
     "data": {
      "text/plain": [
       "43.41"
      ]
     },
     "execution_count": 34,
     "metadata": {},
     "output_type": "execute_result"
    }
   ],
   "source": [
    "orneklem4.mean()"
   ]
  },
  {
   "cell_type": "code",
   "execution_count": 33,
   "id": "53f7c284",
   "metadata": {},
   "outputs": [
    {
     "data": {
      "text/plain": [
       "45.14"
      ]
     },
     "execution_count": 33,
     "metadata": {},
     "output_type": "execute_result"
    }
   ],
   "source": [
    "orneklem5.mean()"
   ]
  },
  {
   "cell_type": "code",
   "execution_count": null,
   "id": "717fd578",
   "metadata": {},
   "outputs": [],
   "source": []
  }
 ],
 "metadata": {
  "kernelspec": {
   "display_name": "Python 3",
   "language": "python",
   "name": "python3"
  },
  "language_info": {
   "codemirror_mode": {
    "name": "ipython",
    "version": 3
   },
   "file_extension": ".py",
   "mimetype": "text/x-python",
   "name": "python",
   "nbconvert_exporter": "python",
   "pygments_lexer": "ipython3",
   "version": "3.8.5"
  }
 },
 "nbformat": 4,
 "nbformat_minor": 5
}
