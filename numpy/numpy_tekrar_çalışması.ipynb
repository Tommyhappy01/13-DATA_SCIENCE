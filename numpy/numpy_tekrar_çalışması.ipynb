{
 "cells": [
  {
   "cell_type": "code",
   "execution_count": 1,
   "metadata": {},
   "outputs": [],
   "source": [
    "import numpy as np"
   ]
  },
  {
   "cell_type": "code",
   "execution_count": 2,
   "metadata": {},
   "outputs": [],
   "source": [
    "j = [0,2,4]\n",
    "k = [1,3,5]\n",
    "m = [6,8,10]\n",
    "# yukarıdaki listeleri tek tek numpy array yapalım\n",
    "j = np.array(j)\n",
    "k = np.array(k)\n",
    "m = np.array(m)"
   ]
  },
  {
   "cell_type": "code",
   "execution_count": 5,
   "metadata": {},
   "outputs": [
    {
     "data": {
      "text/plain": [
       "(numpy.ndarray, numpy.ndarray, numpy.ndarray)"
      ]
     },
     "execution_count": 5,
     "metadata": {},
     "output_type": "execute_result"
    }
   ],
   "source": [
    "type_of_var = type(j),type(k), type(m)\n",
    "type_of_var"
   ]
  },
  {
   "cell_type": "code",
   "execution_count": 7,
   "metadata": {},
   "outputs": [
    {
     "data": {
      "text/plain": [
       "array([1, 5, 9])"
      ]
     },
     "execution_count": 7,
     "metadata": {},
     "output_type": "execute_result"
    }
   ],
   "source": [
    "j+k  # index numaralarına göre topluyor."
   ]
  },
  {
   "cell_type": "code",
   "execution_count": null,
   "metadata": {},
   "outputs": [],
   "source": [
    "# array içindeki verilerin tipini kontrol etmek için dtype kullanılır\n"
   ]
  },
  {
   "cell_type": "code",
   "execution_count": 8,
   "metadata": {},
   "outputs": [
    {
     "data": {
      "text/plain": [
       "dtype('int32')"
      ]
     },
     "execution_count": 8,
     "metadata": {},
     "output_type": "execute_result"
    }
   ],
   "source": [
    "j.dtype"
   ]
  },
  {
   "cell_type": "code",
   "execution_count": 9,
   "metadata": {},
   "outputs": [
    {
     "data": {
      "text/plain": [
       "array([1. , 2. , 3. , 6.4])"
      ]
     },
     "execution_count": 9,
     "metadata": {},
     "output_type": "execute_result"
    }
   ],
   "source": [
    "np_array = np.array([1.,2,3,6.4])\n",
    "np_array"
   ]
  },
  {
   "cell_type": "code",
   "execution_count": 10,
   "metadata": {},
   "outputs": [
    {
     "data": {
      "text/plain": [
       "dtype('float64')"
      ]
     },
     "execution_count": 10,
     "metadata": {},
     "output_type": "execute_result"
    }
   ],
   "source": [
    "np_array.dtype"
   ]
  },
  {
   "cell_type": "code",
   "execution_count": 11,
   "metadata": {},
   "outputs": [],
   "source": [
    "# veri tipini değişmek için"
   ]
  },
  {
   "cell_type": "code",
   "execution_count": 13,
   "metadata": {},
   "outputs": [
    {
     "data": {
      "text/plain": [
       "array(['2', '5', '6', '9'], dtype='<U1')"
      ]
     },
     "execution_count": 13,
     "metadata": {},
     "output_type": "execute_result"
    }
   ],
   "source": [
    "liste = [2,5,6,9]\n",
    "ndarray = np.array(liste, dtype = str)\n",
    "ndarray"
   ]
  },
  {
   "cell_type": "code",
   "execution_count": 18,
   "metadata": {},
   "outputs": [
    {
     "data": {
      "text/plain": [
       "array([0., 0., 0., 0., 0.])"
      ]
     },
     "execution_count": 18,
     "metadata": {},
     "output_type": "execute_result"
    }
   ],
   "source": [
    "# fill zero or ones\n",
    "zeros = np.zeros(5)\n",
    "zeros"
   ]
  },
  {
   "cell_type": "code",
   "execution_count": 20,
   "metadata": {},
   "outputs": [
    {
     "data": {
      "text/plain": [
       "array([0, 0, 0, 0])"
      ]
     },
     "execution_count": 20,
     "metadata": {},
     "output_type": "execute_result"
    }
   ],
   "source": [
    "zeros = np.zeros(4, dtype = int)\n",
    "zeros"
   ]
  },
  {
   "cell_type": "code",
   "execution_count": 23,
   "metadata": {},
   "outputs": [
    {
     "data": {
      "text/plain": [
       "array([1, 1, 1, 1, 1, 1])"
      ]
     },
     "execution_count": 23,
     "metadata": {},
     "output_type": "execute_result"
    }
   ],
   "source": [
    "ones = np.ones(6, dtype = int)\n",
    "ones"
   ]
  },
  {
   "cell_type": "code",
   "execution_count": 25,
   "metadata": {},
   "outputs": [
    {
     "data": {
      "text/plain": [
       "array([4, 3, 4, 9, 7])"
      ]
     },
     "execution_count": 25,
     "metadata": {},
     "output_type": "execute_result"
    }
   ],
   "source": [
    "# rastgele sayılar ile dizi oluşturmak için\n",
    "ndarray = np.random.randint(2,10, size = 5)\n",
    "ndarray"
   ]
  },
  {
   "cell_type": "code",
   "execution_count": 28,
   "metadata": {},
   "outputs": [
    {
     "data": {
      "text/plain": [
       "array([[161, 163, 106],\n",
       "       [197, 128, 165],\n",
       "       [185, 104, 191],\n",
       "       [101, 127, 105]])"
      ]
     },
     "execution_count": 28,
     "metadata": {},
     "output_type": "execute_result"
    }
   ],
   "source": [
    "ndarray = np.random.randint(100,200, size = (4,3))\n",
    "ndarray"
   ]
  },
  {
   "cell_type": "code",
   "execution_count": null,
   "metadata": {},
   "outputs": [],
   "source": [
    "# concatenate "
   ]
  },
  {
   "cell_type": "code",
   "execution_count": 30,
   "metadata": {},
   "outputs": [],
   "source": [
    "dizi1 = np.random.randint(10,30, size = (5,3))\n",
    "dizi2 = np.random.randint(20,60, size = (5,4))"
   ]
  },
  {
   "cell_type": "code",
   "execution_count": 36,
   "metadata": {},
   "outputs": [
    {
     "data": {
      "text/plain": [
       "array([[24, 27, 11],\n",
       "       [11, 21, 25],\n",
       "       [15, 28, 10],\n",
       "       [27, 24, 10],\n",
       "       [15, 16, 24]])"
      ]
     },
     "execution_count": 36,
     "metadata": {},
     "output_type": "execute_result"
    }
   ],
   "source": [
    "dizi1"
   ]
  },
  {
   "cell_type": "code",
   "execution_count": 37,
   "metadata": {},
   "outputs": [
    {
     "data": {
      "text/plain": [
       "array([[35, 53, 35, 27],\n",
       "       [39, 56, 28, 23],\n",
       "       [20, 29, 47, 51],\n",
       "       [28, 48, 39, 59],\n",
       "       [55, 32, 49, 54]])"
      ]
     },
     "execution_count": 37,
     "metadata": {},
     "output_type": "execute_result"
    }
   ],
   "source": [
    "dizi2"
   ]
  },
  {
   "cell_type": "code",
   "execution_count": 35,
   "metadata": {},
   "outputs": [
    {
     "data": {
      "text/plain": [
       "array([[24, 27, 11, 35, 53, 35, 27],\n",
       "       [11, 21, 25, 39, 56, 28, 23],\n",
       "       [15, 28, 10, 20, 29, 47, 51],\n",
       "       [27, 24, 10, 28, 48, 39, 59],\n",
       "       [15, 16, 24, 55, 32, 49, 54]])"
      ]
     },
     "execution_count": 35,
     "metadata": {},
     "output_type": "execute_result"
    }
   ],
   "source": [
    "dizi3 = np.concatenate([dizi1,dizi2], axis = 1)\n",
    "dizi3\n",
    "# sütunları birleştirtik. "
   ]
  },
  {
   "cell_type": "code",
   "execution_count": null,
   "metadata": {},
   "outputs": [],
   "source": [
    "# herbir satırda yer alan eleman sayıları eşit olmadığından\n",
    "# satır bazında birleştirme yapılamaz\n",
    "# concatenate yapabilmek için en az bir boyutunun uzunluğu\n",
    "# eşit olmak zorunda. satır sayıları eşit ise sütunları \n",
    "# birleştirebiliriz.\n",
    "# sütun sayıları (dizinin her bir indexinin eleman sayısı) eşit ise satırları\n",
    "# birleştirebiliriz"
   ]
  },
  {
   "cell_type": "code",
   "execution_count": 39,
   "metadata": {},
   "outputs": [
    {
     "data": {
      "text/plain": [
       "array([[22, 12, 26, 12, 12],\n",
       "       [14, 26, 15, 19, 15],\n",
       "       [12, 26, 14, 18, 28],\n",
       "       [11, 25, 23, 19, 20]])"
      ]
     },
     "execution_count": 39,
     "metadata": {},
     "output_type": "execute_result"
    }
   ],
   "source": [
    "# sütun sayıları eşit olan iki diziyi birleştirelim\n",
    "dizi_a = np.random.randint(10,30, size = (4,5))\n",
    "dizi_a"
   ]
  },
  {
   "cell_type": "code",
   "execution_count": 43,
   "metadata": {},
   "outputs": [
    {
     "data": {
      "text/plain": [
       "array([[50, 56, 50, 50, 56],\n",
       "       [51, 51, 55, 50, 55],\n",
       "       [56, 59, 53, 56, 56],\n",
       "       [57, 59, 56, 59, 51],\n",
       "       [59, 57, 59, 52, 54],\n",
       "       [50, 59, 57, 53, 51],\n",
       "       [53, 57, 51, 53, 51]])"
      ]
     },
     "execution_count": 43,
     "metadata": {},
     "output_type": "execute_result"
    }
   ],
   "source": [
    "dizi_b = np.random.randint(50,60, size = (7,5))\n",
    "dizi_b"
   ]
  },
  {
   "cell_type": "code",
   "execution_count": 47,
   "metadata": {},
   "outputs": [
    {
     "data": {
      "text/plain": [
       "array([[22, 12, 26, 12, 12],\n",
       "       [14, 26, 15, 19, 15],\n",
       "       [12, 26, 14, 18, 28],\n",
       "       [11, 25, 23, 19, 20],\n",
       "       [50, 56, 50, 50, 56],\n",
       "       [51, 51, 55, 50, 55],\n",
       "       [56, 59, 53, 56, 56],\n",
       "       [57, 59, 56, 59, 51],\n",
       "       [59, 57, 59, 52, 54],\n",
       "       [50, 59, 57, 53, 51],\n",
       "       [53, 57, 51, 53, 51]])"
      ]
     },
     "execution_count": 47,
     "metadata": {},
     "output_type": "execute_result"
    }
   ],
   "source": [
    "# sütun sayıları ( yani her bir indexinin sayıları ) eşit olduğundan\n",
    "dizi_c = np.concatenate([dizi_a, dizi_b], axis = 0)\n",
    "dizi_c"
   ]
  },
  {
   "cell_type": "code",
   "execution_count": null,
   "metadata": {},
   "outputs": [],
   "source": [
    "# dimension yani boyut için ndim"
   ]
  }
 ],
 "metadata": {
  "kernelspec": {
   "display_name": "Python 3",
   "language": "python",
   "name": "python3"
  },
  "language_info": {
   "codemirror_mode": {
    "name": "ipython",
    "version": 3
   },
   "file_extension": ".py",
   "mimetype": "text/x-python",
   "name": "python",
   "nbconvert_exporter": "python",
   "pygments_lexer": "ipython3",
   "version": "3.8.5"
  }
 },
 "nbformat": 4,
 "nbformat_minor": 4
}
