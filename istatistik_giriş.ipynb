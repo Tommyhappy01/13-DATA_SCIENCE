{
 "cells": [
  {
   "cell_type": "code",
   "execution_count": null,
   "id": "45b685cf",
   "metadata": {},
   "outputs": [],
   "source": [
    "# istatiğe giriş: "
   ]
  },
  {
   "cell_type": "code",
   "execution_count": 2,
   "id": "e05f80cf",
   "metadata": {},
   "outputs": [],
   "source": [
    "import numpy as np\n",
    "import pandas as pd\n",
    "from math import factorial"
   ]
  },
  {
   "cell_type": "code",
   "execution_count": null,
   "id": "0fd4df89",
   "metadata": {},
   "outputs": [],
   "source": [
    "# aritmetik ortalama: terimlerin toplamı bölü terim sayısı\n",
    "# varyans bulma: aritmetik ortalamalardan tüm terimleri teker terker çıkarıyoruz. \n",
    "# her bir sonucun karesini alıyoruz. sonra kareleri toplamını terim sayısının bir eksiğine bölüyoruz.\n",
    "# standart sapma bulma: varyansın karekökü"
   ]
  },
  {
   "cell_type": "code",
   "execution_count": 3,
   "id": "2b0dc905",
   "metadata": {},
   "outputs": [],
   "source": [
    "# örneklem modelleme: \n",
    "populasyon = np.random.randint(10,80, size = (100000))"
   ]
  },
  {
   "cell_type": "code",
   "execution_count": 5,
   "id": "c5b7f991",
   "metadata": {},
   "outputs": [],
   "source": [
    "np.random.seed(115)  # rastgele değerler elde etmek için. "
   ]
  },
  {
   "cell_type": "code",
   "execution_count": 6,
   "id": "4094eb10",
   "metadata": {},
   "outputs": [],
   "source": [
    "orneklem1 = np.random.choice(populasyon, size = 100)"
   ]
  },
  {
   "cell_type": "code",
   "execution_count": 31,
   "id": "210fb404",
   "metadata": {},
   "outputs": [
    {
     "data": {
      "text/plain": [
       "42.26"
      ]
     },
     "execution_count": 31,
     "metadata": {},
     "output_type": "execute_result"
    }
   ],
   "source": [
    "orneklem1.mean()"
   ]
  },
  {
   "cell_type": "code",
   "execution_count": 8,
   "id": "b332b793",
   "metadata": {},
   "outputs": [
    {
     "data": {
      "text/plain": [
       "44.51058"
      ]
     },
     "execution_count": 8,
     "metadata": {},
     "output_type": "execute_result"
    }
   ],
   "source": [
    "populasyon.mean()"
   ]
  },
  {
   "cell_type": "code",
   "execution_count": 32,
   "id": "6127dc23",
   "metadata": {},
   "outputs": [],
   "source": [
    "orneklem2 = np.random.choice(populasyon, size = 100)\n",
    "orneklem3 = np.random.choice(populasyon, size = 100)\n",
    "orneklem4 = np.random.choice(populasyon, size = 100)\n",
    "orneklem5 = np.random.choice(populasyon, size = 100)\n",
    "orneklem6 = np.random.choice(populasyon, size = 100)\n",
    "orneklem7 = np.random.choice(populasyon, size = 100)\n",
    "orneklem8 = np.random.choice(populasyon, size = 100)\n",
    "orneklem9 = np.random.choice(populasyon, size = 100)\n",
    "orneklem10 = np.random.choice(populasyon, size = 100)"
   ]
  },
  {
   "cell_type": "code",
   "execution_count": 33,
   "id": "7e6b49ad",
   "metadata": {},
   "outputs": [
    {
     "data": {
      "text/plain": [
       "42.829"
      ]
     },
     "execution_count": 33,
     "metadata": {},
     "output_type": "execute_result"
    }
   ],
   "source": [
    "np.array([orneklem1,orneklem2,orneklem3,orneklem4,orneklem5,orneklem6,orneklem7,orneklem8,orneklem9,orneklem10]).mean()"
   ]
  },
  {
   "cell_type": "markdown",
   "id": "2bd10435",
   "metadata": {},
   "source": [
    "Örneklem sayısı arttıkça ana kümeye benzeme oranı arttıkça sonuçlar ana kümey yaklaşır. "
   ]
  },
  {
   "cell_type": "code",
   "execution_count": null,
   "id": "94cb946b",
   "metadata": {},
   "outputs": [],
   "source": [
    "# Kovaryans: nedir? iki tane değişkenin zaman içindek değişimlerinin yönüdür."
   ]
  },
  {
   "cell_type": "code",
   "execution_count": 36,
   "id": "5f72bbde",
   "metadata": {},
   "outputs": [
    {
     "data": {
      "text/html": [
       "<div>\n",
       "<style scoped>\n",
       "    .dataframe tbody tr th:only-of-type {\n",
       "        vertical-align: middle;\n",
       "    }\n",
       "\n",
       "    .dataframe tbody tr th {\n",
       "        vertical-align: top;\n",
       "    }\n",
       "\n",
       "    .dataframe thead th {\n",
       "        text-align: right;\n",
       "    }\n",
       "</style>\n",
       "<table border=\"1\" class=\"dataframe\">\n",
       "  <thead>\n",
       "    <tr style=\"text-align: right;\">\n",
       "      <th></th>\n",
       "      <th>deg1</th>\n",
       "      <th>deg2</th>\n",
       "    </tr>\n",
       "  </thead>\n",
       "  <tbody>\n",
       "    <tr>\n",
       "      <th>0</th>\n",
       "      <td>20</td>\n",
       "      <td>11</td>\n",
       "    </tr>\n",
       "    <tr>\n",
       "      <th>1</th>\n",
       "      <td>13</td>\n",
       "      <td>18</td>\n",
       "    </tr>\n",
       "    <tr>\n",
       "      <th>2</th>\n",
       "      <td>4</td>\n",
       "      <td>5</td>\n",
       "    </tr>\n",
       "    <tr>\n",
       "      <th>3</th>\n",
       "      <td>13</td>\n",
       "      <td>18</td>\n",
       "    </tr>\n",
       "    <tr>\n",
       "      <th>4</th>\n",
       "      <td>20</td>\n",
       "      <td>27</td>\n",
       "    </tr>\n",
       "  </tbody>\n",
       "</table>\n",
       "</div>"
      ],
      "text/plain": [
       "   deg1  deg2\n",
       "0    20    11\n",
       "1    13    18\n",
       "2     4     5\n",
       "3    13    18\n",
       "4    20    27"
      ]
     },
     "execution_count": 36,
     "metadata": {},
     "output_type": "execute_result"
    }
   ],
   "source": [
    "df = pd.DataFrame(np.random.randint(2,30, size = (5,2)),  columns=[\"deg1\",\"deg2\"])\n",
    "df"
   ]
  },
  {
   "cell_type": "code",
   "execution_count": 37,
   "id": "223d1e75",
   "metadata": {},
   "outputs": [
    {
     "data": {
      "text/plain": [
       "14.0"
      ]
     },
     "execution_count": 37,
     "metadata": {},
     "output_type": "execute_result"
    }
   ],
   "source": [
    "df['deg1'].mean()"
   ]
  },
  {
   "cell_type": "code",
   "execution_count": 38,
   "id": "59d13164",
   "metadata": {},
   "outputs": [
    {
     "data": {
      "text/plain": [
       "15.8"
      ]
     },
     "execution_count": 38,
     "metadata": {},
     "output_type": "execute_result"
    }
   ],
   "source": [
    "df['deg2'].mean()"
   ]
  },
  {
   "cell_type": "code",
   "execution_count": 39,
   "id": "d02195df",
   "metadata": {},
   "outputs": [
    {
     "data": {
      "text/html": [
       "<div>\n",
       "<style scoped>\n",
       "    .dataframe tbody tr th:only-of-type {\n",
       "        vertical-align: middle;\n",
       "    }\n",
       "\n",
       "    .dataframe tbody tr th {\n",
       "        vertical-align: top;\n",
       "    }\n",
       "\n",
       "    .dataframe thead th {\n",
       "        text-align: right;\n",
       "    }\n",
       "</style>\n",
       "<table border=\"1\" class=\"dataframe\">\n",
       "  <thead>\n",
       "    <tr style=\"text-align: right;\">\n",
       "      <th></th>\n",
       "      <th>deg1</th>\n",
       "      <th>deg2</th>\n",
       "    </tr>\n",
       "  </thead>\n",
       "  <tbody>\n",
       "    <tr>\n",
       "      <th>deg1</th>\n",
       "      <td>43.5</td>\n",
       "      <td>35.5</td>\n",
       "    </tr>\n",
       "    <tr>\n",
       "      <th>deg2</th>\n",
       "      <td>35.5</td>\n",
       "      <td>68.7</td>\n",
       "    </tr>\n",
       "  </tbody>\n",
       "</table>\n",
       "</div>"
      ],
      "text/plain": [
       "      deg1  deg2\n",
       "deg1  43.5  35.5\n",
       "deg2  35.5  68.7"
      ]
     },
     "execution_count": 39,
     "metadata": {},
     "output_type": "execute_result"
    }
   ],
   "source": [
    "df.cov() # kovaryans iki değişkenin arasındaki ilişkinin yönünü göstterir"
   ]
  },
  {
   "cell_type": "code",
   "execution_count": null,
   "id": "5b203c2a",
   "metadata": {},
   "outputs": [],
   "source": [
    "# korelasyon iki değişken arasındaki ilişkinin ölçeklendirilmesidir. "
   ]
  },
  {
   "cell_type": "code",
   "execution_count": 41,
   "id": "cfc88056",
   "metadata": {},
   "outputs": [],
   "source": [
    "x = df['deg1'] - (df[\"deg1\"].mean())\n",
    "y = df['deg2'] - (df[\"deg2\"].mean())"
   ]
  },
  {
   "cell_type": "code",
   "execution_count": 42,
   "id": "29cadc65",
   "metadata": {},
   "outputs": [
    {
     "data": {
      "text/plain": [
       "0     6.0\n",
       "1    -1.0\n",
       "2   -10.0\n",
       "3    -1.0\n",
       "4     6.0\n",
       "Name: deg1, dtype: float64"
      ]
     },
     "execution_count": 42,
     "metadata": {},
     "output_type": "execute_result"
    }
   ],
   "source": [
    "x"
   ]
  },
  {
   "cell_type": "code",
   "execution_count": 43,
   "id": "aa291e03",
   "metadata": {},
   "outputs": [
    {
     "data": {
      "text/plain": [
       "0    -4.8\n",
       "1     2.2\n",
       "2   -10.8\n",
       "3     2.2\n",
       "4    11.2\n",
       "Name: deg2, dtype: float64"
      ]
     },
     "execution_count": 43,
     "metadata": {},
     "output_type": "execute_result"
    }
   ],
   "source": [
    "y"
   ]
  },
  {
   "cell_type": "code",
   "execution_count": 44,
   "id": "f779f131",
   "metadata": {},
   "outputs": [
    {
     "data": {
      "text/plain": [
       "0     6.0\n",
       "1    -1.0\n",
       "2   -10.0\n",
       "3    -1.0\n",
       "4     6.0\n",
       "Name: deg1, dtype: float64"
      ]
     },
     "execution_count": 44,
     "metadata": {},
     "output_type": "execute_result"
    }
   ],
   "source": [
    "x_kare = x **2\n",
    "x"
   ]
  },
  {
   "cell_type": "code",
   "execution_count": 46,
   "id": "213bddff",
   "metadata": {},
   "outputs": [
    {
     "data": {
      "text/plain": [
       "0    -4.8\n",
       "1     2.2\n",
       "2   -10.8\n",
       "3     2.2\n",
       "4    11.2\n",
       "Name: deg2, dtype: float64"
      ]
     },
     "execution_count": 46,
     "metadata": {},
     "output_type": "execute_result"
    }
   ],
   "source": [
    "y_kare = y**2\n",
    "y"
   ]
  },
  {
   "cell_type": "code",
   "execution_count": 47,
   "id": "142d5a46",
   "metadata": {},
   "outputs": [
    {
     "data": {
      "text/plain": [
       "0    -28.8\n",
       "1     -2.2\n",
       "2    108.0\n",
       "3     -2.2\n",
       "4     67.2\n",
       "dtype: float64"
      ]
     },
     "execution_count": 47,
     "metadata": {},
     "output_type": "execute_result"
    }
   ],
   "source": [
    "çarpım = x * y\n",
    "çarpım"
   ]
  },
  {
   "cell_type": "code",
   "execution_count": 48,
   "id": "6299729f",
   "metadata": {},
   "outputs": [],
   "source": [
    "çarpım_toplam = çarpım.sum()\n",
    "x_kare_toplam = x_kare.sum()\n",
    "y_kare_toplam = y_kare.sum()"
   ]
  },
  {
   "cell_type": "code",
   "execution_count": 49,
   "id": "3baeab9d",
   "metadata": {},
   "outputs": [
    {
     "data": {
      "text/plain": [
       "0.6493896402909927"
      ]
     },
     "execution_count": 49,
     "metadata": {},
     "output_type": "execute_result"
    }
   ],
   "source": [
    "korelasyon = çarpım_toplam/((x_kare_toplam*y_kare_toplam)**0.5)\n",
    "korelasyon"
   ]
  },
  {
   "cell_type": "code",
   "execution_count": 50,
   "id": "0b9dc01f",
   "metadata": {},
   "outputs": [
    {
     "data": {
      "text/html": [
       "<div>\n",
       "<style scoped>\n",
       "    .dataframe tbody tr th:only-of-type {\n",
       "        vertical-align: middle;\n",
       "    }\n",
       "\n",
       "    .dataframe tbody tr th {\n",
       "        vertical-align: top;\n",
       "    }\n",
       "\n",
       "    .dataframe thead th {\n",
       "        text-align: right;\n",
       "    }\n",
       "</style>\n",
       "<table border=\"1\" class=\"dataframe\">\n",
       "  <thead>\n",
       "    <tr style=\"text-align: right;\">\n",
       "      <th></th>\n",
       "      <th>deg1</th>\n",
       "      <th>deg2</th>\n",
       "    </tr>\n",
       "  </thead>\n",
       "  <tbody>\n",
       "    <tr>\n",
       "      <th>deg1</th>\n",
       "      <td>43.5</td>\n",
       "      <td>35.5</td>\n",
       "    </tr>\n",
       "    <tr>\n",
       "      <th>deg2</th>\n",
       "      <td>35.5</td>\n",
       "      <td>68.7</td>\n",
       "    </tr>\n",
       "  </tbody>\n",
       "</table>\n",
       "</div>"
      ],
      "text/plain": [
       "      deg1  deg2\n",
       "deg1  43.5  35.5\n",
       "deg2  35.5  68.7"
      ]
     },
     "execution_count": 50,
     "metadata": {},
     "output_type": "execute_result"
    }
   ],
   "source": [
    "df.cov()"
   ]
  },
  {
   "cell_type": "code",
   "execution_count": 51,
   "id": "f1c124d5",
   "metadata": {},
   "outputs": [
    {
     "data": {
      "text/html": [
       "<div>\n",
       "<style scoped>\n",
       "    .dataframe tbody tr th:only-of-type {\n",
       "        vertical-align: middle;\n",
       "    }\n",
       "\n",
       "    .dataframe tbody tr th {\n",
       "        vertical-align: top;\n",
       "    }\n",
       "\n",
       "    .dataframe thead th {\n",
       "        text-align: right;\n",
       "    }\n",
       "</style>\n",
       "<table border=\"1\" class=\"dataframe\">\n",
       "  <thead>\n",
       "    <tr style=\"text-align: right;\">\n",
       "      <th></th>\n",
       "      <th>deg1</th>\n",
       "      <th>deg2</th>\n",
       "    </tr>\n",
       "  </thead>\n",
       "  <tbody>\n",
       "    <tr>\n",
       "      <th>deg1</th>\n",
       "      <td>43.5</td>\n",
       "      <td>35.5</td>\n",
       "    </tr>\n",
       "    <tr>\n",
       "      <th>deg2</th>\n",
       "      <td>35.5</td>\n",
       "      <td>68.7</td>\n",
       "    </tr>\n",
       "  </tbody>\n",
       "</table>\n",
       "</div>"
      ],
      "text/plain": [
       "      deg1  deg2\n",
       "deg1  43.5  35.5\n",
       "deg2  35.5  68.7"
      ]
     },
     "execution_count": 51,
     "metadata": {},
     "output_type": "execute_result"
    }
   ],
   "source": [
    "df[[\"deg1\",\"deg2\"]].cov()"
   ]
  },
  {
   "cell_type": "code",
   "execution_count": 53,
   "id": "d94be1a5",
   "metadata": {},
   "outputs": [
    {
     "data": {
      "text/html": [
       "<div>\n",
       "<style scoped>\n",
       "    .dataframe tbody tr th:only-of-type {\n",
       "        vertical-align: middle;\n",
       "    }\n",
       "\n",
       "    .dataframe tbody tr th {\n",
       "        vertical-align: top;\n",
       "    }\n",
       "\n",
       "    .dataframe thead th {\n",
       "        text-align: right;\n",
       "    }\n",
       "</style>\n",
       "<table border=\"1\" class=\"dataframe\">\n",
       "  <thead>\n",
       "    <tr style=\"text-align: right;\">\n",
       "      <th></th>\n",
       "      <th>deg1</th>\n",
       "      <th>deg2</th>\n",
       "    </tr>\n",
       "  </thead>\n",
       "  <tbody>\n",
       "    <tr>\n",
       "      <th>deg1</th>\n",
       "      <td>43.5</td>\n",
       "      <td>35.5</td>\n",
       "    </tr>\n",
       "    <tr>\n",
       "      <th>deg2</th>\n",
       "      <td>35.5</td>\n",
       "      <td>68.7</td>\n",
       "    </tr>\n",
       "  </tbody>\n",
       "</table>\n",
       "</div>"
      ],
      "text/plain": [
       "      deg1  deg2\n",
       "deg1  43.5  35.5\n",
       "deg2  35.5  68.7"
      ]
     },
     "execution_count": 53,
     "metadata": {},
     "output_type": "execute_result"
    }
   ],
   "source": [
    "df[[\"deg1\",\"deg2\"]].cov()"
   ]
  },
  {
   "cell_type": "code",
   "execution_count": 55,
   "id": "f77c0489",
   "metadata": {},
   "outputs": [
    {
     "data": {
      "text/html": [
       "<div>\n",
       "<style scoped>\n",
       "    .dataframe tbody tr th:only-of-type {\n",
       "        vertical-align: middle;\n",
       "    }\n",
       "\n",
       "    .dataframe tbody tr th {\n",
       "        vertical-align: top;\n",
       "    }\n",
       "\n",
       "    .dataframe thead th {\n",
       "        text-align: right;\n",
       "    }\n",
       "</style>\n",
       "<table border=\"1\" class=\"dataframe\">\n",
       "  <thead>\n",
       "    <tr style=\"text-align: right;\">\n",
       "      <th></th>\n",
       "      <th>deg1</th>\n",
       "    </tr>\n",
       "  </thead>\n",
       "  <tbody>\n",
       "    <tr>\n",
       "      <th>deg1</th>\n",
       "      <td>43.5</td>\n",
       "    </tr>\n",
       "  </tbody>\n",
       "</table>\n",
       "</div>"
      ],
      "text/plain": [
       "      deg1\n",
       "deg1  43.5"
      ]
     },
     "execution_count": 55,
     "metadata": {},
     "output_type": "execute_result"
    }
   ],
   "source": [
    "df[[\"deg1\"]].cov()"
   ]
  },
  {
   "cell_type": "code",
   "execution_count": 56,
   "id": "d104b79d",
   "metadata": {
    "scrolled": true
   },
   "outputs": [
    {
     "data": {
      "text/html": [
       "<div>\n",
       "<style scoped>\n",
       "    .dataframe tbody tr th:only-of-type {\n",
       "        vertical-align: middle;\n",
       "    }\n",
       "\n",
       "    .dataframe tbody tr th {\n",
       "        vertical-align: top;\n",
       "    }\n",
       "\n",
       "    .dataframe thead th {\n",
       "        text-align: right;\n",
       "    }\n",
       "</style>\n",
       "<table border=\"1\" class=\"dataframe\">\n",
       "  <thead>\n",
       "    <tr style=\"text-align: right;\">\n",
       "      <th></th>\n",
       "      <th>deg1</th>\n",
       "      <th>deg2</th>\n",
       "    </tr>\n",
       "  </thead>\n",
       "  <tbody>\n",
       "    <tr>\n",
       "      <th>deg1</th>\n",
       "      <td>1.00000</td>\n",
       "      <td>0.64939</td>\n",
       "    </tr>\n",
       "    <tr>\n",
       "      <th>deg2</th>\n",
       "      <td>0.64939</td>\n",
       "      <td>1.00000</td>\n",
       "    </tr>\n",
       "  </tbody>\n",
       "</table>\n",
       "</div>"
      ],
      "text/plain": [
       "         deg1     deg2\n",
       "deg1  1.00000  0.64939\n",
       "deg2  0.64939  1.00000"
      ]
     },
     "execution_count": 56,
     "metadata": {},
     "output_type": "execute_result"
    }
   ],
   "source": [
    "df[[\"deg1\", \"deg2\"]].corr()  # korelasyon"
   ]
  },
  {
   "cell_type": "code",
   "execution_count": 57,
   "id": "d2f016ca",
   "metadata": {},
   "outputs": [],
   "source": [
    "import seaborn as sns"
   ]
  },
  {
   "cell_type": "code",
   "execution_count": 58,
   "id": "9a6872fa",
   "metadata": {},
   "outputs": [],
   "source": [
    "df = sns.load_dataset(\"tips\")"
   ]
  },
  {
   "cell_type": "code",
   "execution_count": 59,
   "id": "e431080a",
   "metadata": {},
   "outputs": [
    {
     "data": {
      "text/html": [
       "<div>\n",
       "<style scoped>\n",
       "    .dataframe tbody tr th:only-of-type {\n",
       "        vertical-align: middle;\n",
       "    }\n",
       "\n",
       "    .dataframe tbody tr th {\n",
       "        vertical-align: top;\n",
       "    }\n",
       "\n",
       "    .dataframe thead th {\n",
       "        text-align: right;\n",
       "    }\n",
       "</style>\n",
       "<table border=\"1\" class=\"dataframe\">\n",
       "  <thead>\n",
       "    <tr style=\"text-align: right;\">\n",
       "      <th></th>\n",
       "      <th>total_bill</th>\n",
       "      <th>tip</th>\n",
       "      <th>sex</th>\n",
       "      <th>smoker</th>\n",
       "      <th>day</th>\n",
       "      <th>time</th>\n",
       "      <th>size</th>\n",
       "    </tr>\n",
       "  </thead>\n",
       "  <tbody>\n",
       "    <tr>\n",
       "      <th>0</th>\n",
       "      <td>16.99</td>\n",
       "      <td>1.01</td>\n",
       "      <td>Female</td>\n",
       "      <td>No</td>\n",
       "      <td>Sun</td>\n",
       "      <td>Dinner</td>\n",
       "      <td>2</td>\n",
       "    </tr>\n",
       "    <tr>\n",
       "      <th>1</th>\n",
       "      <td>10.34</td>\n",
       "      <td>1.66</td>\n",
       "      <td>Male</td>\n",
       "      <td>No</td>\n",
       "      <td>Sun</td>\n",
       "      <td>Dinner</td>\n",
       "      <td>3</td>\n",
       "    </tr>\n",
       "    <tr>\n",
       "      <th>2</th>\n",
       "      <td>21.01</td>\n",
       "      <td>3.50</td>\n",
       "      <td>Male</td>\n",
       "      <td>No</td>\n",
       "      <td>Sun</td>\n",
       "      <td>Dinner</td>\n",
       "      <td>3</td>\n",
       "    </tr>\n",
       "    <tr>\n",
       "      <th>3</th>\n",
       "      <td>23.68</td>\n",
       "      <td>3.31</td>\n",
       "      <td>Male</td>\n",
       "      <td>No</td>\n",
       "      <td>Sun</td>\n",
       "      <td>Dinner</td>\n",
       "      <td>2</td>\n",
       "    </tr>\n",
       "    <tr>\n",
       "      <th>4</th>\n",
       "      <td>24.59</td>\n",
       "      <td>3.61</td>\n",
       "      <td>Female</td>\n",
       "      <td>No</td>\n",
       "      <td>Sun</td>\n",
       "      <td>Dinner</td>\n",
       "      <td>4</td>\n",
       "    </tr>\n",
       "  </tbody>\n",
       "</table>\n",
       "</div>"
      ],
      "text/plain": [
       "   total_bill   tip     sex smoker  day    time  size\n",
       "0       16.99  1.01  Female     No  Sun  Dinner     2\n",
       "1       10.34  1.66    Male     No  Sun  Dinner     3\n",
       "2       21.01  3.50    Male     No  Sun  Dinner     3\n",
       "3       23.68  3.31    Male     No  Sun  Dinner     2\n",
       "4       24.59  3.61  Female     No  Sun  Dinner     4"
      ]
     },
     "execution_count": 59,
     "metadata": {},
     "output_type": "execute_result"
    }
   ],
   "source": [
    "df.head()"
   ]
  },
  {
   "cell_type": "code",
   "execution_count": 60,
   "id": "c31fe248",
   "metadata": {},
   "outputs": [
    {
     "data": {
      "text/html": [
       "<div>\n",
       "<style scoped>\n",
       "    .dataframe tbody tr th:only-of-type {\n",
       "        vertical-align: middle;\n",
       "    }\n",
       "\n",
       "    .dataframe tbody tr th {\n",
       "        vertical-align: top;\n",
       "    }\n",
       "\n",
       "    .dataframe thead th {\n",
       "        text-align: right;\n",
       "    }\n",
       "</style>\n",
       "<table border=\"1\" class=\"dataframe\">\n",
       "  <thead>\n",
       "    <tr style=\"text-align: right;\">\n",
       "      <th></th>\n",
       "      <th>total_bill</th>\n",
       "      <th>tip</th>\n",
       "    </tr>\n",
       "  </thead>\n",
       "  <tbody>\n",
       "    <tr>\n",
       "      <th>total_bill</th>\n",
       "      <td>1.000000</td>\n",
       "      <td>0.675734</td>\n",
       "    </tr>\n",
       "    <tr>\n",
       "      <th>tip</th>\n",
       "      <td>0.675734</td>\n",
       "      <td>1.000000</td>\n",
       "    </tr>\n",
       "  </tbody>\n",
       "</table>\n",
       "</div>"
      ],
      "text/plain": [
       "            total_bill       tip\n",
       "total_bill    1.000000  0.675734\n",
       "tip           0.675734  1.000000"
      ]
     },
     "execution_count": 60,
     "metadata": {},
     "output_type": "execute_result"
    }
   ],
   "source": [
    "df[[\"total_bill\", \"tip\"]].corr()"
   ]
  },
  {
   "cell_type": "code",
   "execution_count": 61,
   "id": "126f6796",
   "metadata": {},
   "outputs": [
    {
     "data": {
      "text/html": [
       "<div>\n",
       "<style scoped>\n",
       "    .dataframe tbody tr th:only-of-type {\n",
       "        vertical-align: middle;\n",
       "    }\n",
       "\n",
       "    .dataframe tbody tr th {\n",
       "        vertical-align: top;\n",
       "    }\n",
       "\n",
       "    .dataframe thead th {\n",
       "        text-align: right;\n",
       "    }\n",
       "</style>\n",
       "<table border=\"1\" class=\"dataframe\">\n",
       "  <thead>\n",
       "    <tr style=\"text-align: right;\">\n",
       "      <th></th>\n",
       "      <th>total_bill</th>\n",
       "      <th>tip</th>\n",
       "    </tr>\n",
       "  </thead>\n",
       "  <tbody>\n",
       "    <tr>\n",
       "      <th>total_bill</th>\n",
       "      <td>79.252939</td>\n",
       "      <td>8.323502</td>\n",
       "    </tr>\n",
       "    <tr>\n",
       "      <th>tip</th>\n",
       "      <td>8.323502</td>\n",
       "      <td>1.914455</td>\n",
       "    </tr>\n",
       "  </tbody>\n",
       "</table>\n",
       "</div>"
      ],
      "text/plain": [
       "            total_bill       tip\n",
       "total_bill   79.252939  8.323502\n",
       "tip           8.323502  1.914455"
      ]
     },
     "execution_count": 61,
     "metadata": {},
     "output_type": "execute_result"
    }
   ],
   "source": [
    "df[[\"total_bill\",\"tip\"]].cov()"
   ]
  },
  {
   "cell_type": "markdown",
   "id": "6a5414dc",
   "metadata": {},
   "source": [
    "# güven aralıkları: \n",
    "bir  web sitesinde geçirilen sürenin güven aralığı nedir?\n",
    "n = kişi sayısı\n",
    "ortalama\n",
    "standart sapma\n",
    "n = 100\n",
    "ortalama = 180\n",
    "std = 40\n",
    "güven aralığı kat sayıları = 1.96"
   ]
  },
  {
   "cell_type": "code",
   "execution_count": 65,
   "id": "3d0e6fce",
   "metadata": {},
   "outputs": [
    {
     "data": {
      "text/plain": [
       "181.568"
      ]
     },
     "execution_count": 65,
     "metadata": {},
     "output_type": "execute_result"
    }
   ],
   "source": [
    "180+1.96*40/(100*0.5)"
   ]
  },
  {
   "cell_type": "code",
   "execution_count": null,
   "id": "067b40fb",
   "metadata": {},
   "outputs": [],
   "source": [
    "# 172 -188 arasında % 95 lik bir başarı var. \n",
    "# kullanıcıların % 95 i 178-181 saniye aralıklarında sitemizde "
   ]
  },
  {
   "cell_type": "code",
   "execution_count": 66,
   "id": "d97a4f8d",
   "metadata": {},
   "outputs": [],
   "source": [
    "fiyat = np.random.randint(70,100, size = 100)"
   ]
  },
  {
   "cell_type": "code",
   "execution_count": 67,
   "id": "3f2031e5",
   "metadata": {},
   "outputs": [],
   "source": [
    "# kullanıcıların % 95 i hangi fiat aralığın vermiş.\n"
   ]
  },
  {
   "cell_type": "code",
   "execution_count": 69,
   "id": "30da2642",
   "metadata": {},
   "outputs": [],
   "source": [
    "import statsmodels.stats.api as sms\n",
    "# güven aralıklarını hesaplarken kullandığımız kütüphane"
   ]
  },
  {
   "cell_type": "code",
   "execution_count": 70,
   "id": "10b3ca4d",
   "metadata": {},
   "outputs": [
    {
     "data": {
      "text/plain": [
       "(81.95406674198843, 85.44593325801158)"
      ]
     },
     "execution_count": 70,
     "metadata": {},
     "output_type": "execute_result"
    }
   ],
   "source": [
    "sms.DescrStatsW(fiyat).tconfint_mean()"
   ]
  },
  {
   "cell_type": "code",
   "execution_count": 71,
   "id": "ca7db370",
   "metadata": {},
   "outputs": [
    {
     "data": {
      "text/plain": [
       "83.7"
      ]
     },
     "execution_count": 71,
     "metadata": {},
     "output_type": "execute_result"
    }
   ],
   "source": [
    "fiyat.mean()"
   ]
  },
  {
   "cell_type": "code",
   "execution_count": 72,
   "id": "7c99b4c2",
   "metadata": {},
   "outputs": [
    {
     "data": {
      "text/plain": [
       "8.754998572244315"
      ]
     },
     "execution_count": 72,
     "metadata": {},
     "output_type": "execute_result"
    }
   ],
   "source": [
    "fiyat.std()"
   ]
  },
  {
   "cell_type": "markdown",
   "id": "5ae7eb36",
   "metadata": {},
   "source": [
    "# istatistik dağılımları \n",
    "binom (bernoulli) true ya da false döndürür, doğru ya da yanlış, yazı ya da tura\n",
    "bir kere gerçekleşirse bernoulli \n",
    "n defa gerçekeleşirse binom"
   ]
  },
  {
   "cell_type": "code",
   "execution_count": 76,
   "id": "b8c124ca",
   "metadata": {},
   "outputs": [
    {
     "data": {
      "text/plain": [
       "0.2734375"
      ]
     },
     "execution_count": 76,
     "metadata": {},
     "output_type": "execute_result"
    }
   ],
   "source": [
    "yazı = 1/2\n",
    "tura = 1/2\n",
    "# 7 defa parayı havaya atarsak\n",
    "((7*6*5)/(3*2*1))*(yazı**3)*(tura**4)"
   ]
  },
  {
   "cell_type": "code",
   "execution_count": 77,
   "id": "1f042df2",
   "metadata": {},
   "outputs": [],
   "source": [
    "from scipy.stats import bernoulli\n",
    "from scipy.stats import binom\n"
   ]
  },
  {
   "cell_type": "code",
   "execution_count": 81,
   "id": "1a631d4c",
   "metadata": {},
   "outputs": [],
   "source": [
    "yt = binom(7,0.5)\n"
   ]
  },
  {
   "cell_type": "code",
   "execution_count": 82,
   "id": "83c8c88f",
   "metadata": {},
   "outputs": [],
   "source": [
    "yazı = yt.pmf(3)"
   ]
  },
  {
   "cell_type": "code",
   "execution_count": 83,
   "id": "7a67d23a",
   "metadata": {},
   "outputs": [
    {
     "data": {
      "text/plain": [
       "0.27343750000000017"
      ]
     },
     "execution_count": 83,
     "metadata": {},
     "output_type": "execute_result"
    }
   ],
   "source": [
    "yazı"
   ]
  },
  {
   "cell_type": "code",
   "execution_count": null,
   "id": "08382727",
   "metadata": {},
   "outputs": [],
   "source": [
    "# 10 tane hasta dan iki tanesinin iyileşme olasılığı"
   ]
  },
  {
   "cell_type": "code",
   "execution_count": 86,
   "id": "31051d43",
   "metadata": {},
   "outputs": [
    {
     "data": {
      "text/plain": [
       "0.20507812500000022"
      ]
     },
     "execution_count": 86,
     "metadata": {},
     "output_type": "execute_result"
    }
   ],
   "source": [
    "p = 1/2\n",
    "n = 10\n",
    "rv = binom(n,p)\n",
    "hasta_iki= rv.pmf(6)\n",
    "hasta_iki"
   ]
  },
  {
   "cell_type": "code",
   "execution_count": 89,
   "id": "763a3a95",
   "metadata": {},
   "outputs": [
    {
     "data": {
      "text/plain": [
       "0.0546875"
      ]
     },
     "execution_count": 89,
     "metadata": {},
     "output_type": "execute_result"
    }
   ],
   "source": [
    "# en fazla iki hastanın iyileşme olasılığı\n",
    "p = 1/2\n",
    "n = 10\n",
    "rv = binom(n,p)\n",
    "hasta1 = rv.pmf(0)  # hiç hasta iyileşmedi\n",
    "hasta2 = rv.pmf(1)  # 1 hasta iyileşti\n",
    "hasta3 = rv.pmf(2)\n",
    "sonuç = hasta1+hasta2+hasta3\n",
    "sonuç "
   ]
  },
  {
   "cell_type": "code",
   "execution_count": null,
   "id": "b98038f1",
   "metadata": {},
   "outputs": [],
   "source": []
  }
 ],
 "metadata": {
  "kernelspec": {
   "display_name": "Python 3",
   "language": "python",
   "name": "python3"
  },
  "language_info": {
   "codemirror_mode": {
    "name": "ipython",
    "version": 3
   },
   "file_extension": ".py",
   "mimetype": "text/x-python",
   "name": "python",
   "nbconvert_exporter": "python",
   "pygments_lexer": "ipython3",
   "version": "3.8.5"
  }
 },
 "nbformat": 4,
 "nbformat_minor": 5
}
