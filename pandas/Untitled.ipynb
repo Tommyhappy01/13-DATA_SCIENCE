{
 "cells": [
  {
   "cell_type": "code",
   "execution_count": 1,
   "id": "48524d67",
   "metadata": {},
   "outputs": [],
   "source": [
    "import numpy as np"
   ]
  },
  {
   "cell_type": "code",
   "execution_count": 2,
   "id": "0c92816d",
   "metadata": {},
   "outputs": [],
   "source": [
    "import pandas as pd"
   ]
  },
  {
   "cell_type": "code",
   "execution_count": 3,
   "id": "9b120968",
   "metadata": {},
   "outputs": [],
   "source": [
    "isimler = [\"Ahmet\",\"Mehmet\",\"Arda\",\"Turan\"]\n",
    "yaşlar = [15,25,33,44]"
   ]
  },
  {
   "cell_type": "code",
   "execution_count": 6,
   "id": "a3ee000e",
   "metadata": {},
   "outputs": [
    {
     "data": {
      "text/plain": [
       "Ahmet     15\n",
       "Mehmet    25\n",
       "Arda      33\n",
       "Turan     44\n",
       "dtype: int64"
      ]
     },
     "execution_count": 6,
     "metadata": {},
     "output_type": "execute_result"
    }
   ],
   "source": [
    "series = pd.Series(data= yaşlar, index = isimler)   # data ile yolu belirtmesek de çalışır.\n",
    "series"
   ]
  },
  {
   "cell_type": "code",
   "execution_count": 11,
   "id": "f1f21889",
   "metadata": {},
   "outputs": [
    {
     "data": {
      "text/plain": [
       "Ahmet     15\n",
       "Mehmet    25\n",
       "Arda      33\n",
       "Turan     44\n",
       "dtype: int64"
      ]
     },
     "execution_count": 11,
     "metadata": {},
     "output_type": "execute_result"
    }
   ],
   "source": [
    "series = pd.Series(yaşlar,  isimler)\n",
    "series"
   ]
  },
  {
   "cell_type": "code",
   "execution_count": 9,
   "id": "11ef43a5",
   "metadata": {},
   "outputs": [
    {
     "data": {
      "text/plain": [
       "15"
      ]
     },
     "execution_count": 9,
     "metadata": {},
     "output_type": "execute_result"
    }
   ],
   "source": [
    "series[0]"
   ]
  },
  {
   "cell_type": "code",
   "execution_count": 10,
   "id": "a45d7642",
   "metadata": {},
   "outputs": [
    {
     "data": {
      "text/plain": [
       "15"
      ]
     },
     "execution_count": 10,
     "metadata": {},
     "output_type": "execute_result"
    }
   ],
   "source": [
    "series['Ahmet']"
   ]
  },
  {
   "cell_type": "code",
   "execution_count": 15,
   "id": "29ba86a2",
   "metadata": {},
   "outputs": [],
   "source": [
    "yaşlar = {\"Sam\":5, \"Frankk\": 10, \"Spike\": 7}\n",
    "series = pd.Series(yaşlar)"
   ]
  },
  {
   "cell_type": "code",
   "execution_count": 19,
   "id": "e9f5fe1a",
   "metadata": {},
   "outputs": [
    {
     "data": {
      "text/plain": [
       "<bound method Series.items of Sam        5\n",
       "Frankk    10\n",
       "Spike      7\n",
       "dtype: int64>"
      ]
     },
     "execution_count": 19,
     "metadata": {},
     "output_type": "execute_result"
    }
   ],
   "source": [
    "# sözlük keyleri index olurken değeler series oluyor. "
   ]
  }
 ],
 "metadata": {
  "kernelspec": {
   "display_name": "Python 3",
   "language": "python",
   "name": "python3"
  },
  "language_info": {
   "codemirror_mode": {
    "name": "ipython",
    "version": 3
   },
   "file_extension": ".py",
   "mimetype": "text/x-python",
   "name": "python",
   "nbconvert_exporter": "python",
   "pygments_lexer": "ipython3",
   "version": "3.8.5"
  }
 },
 "nbformat": 4,
 "nbformat_minor": 5
}
